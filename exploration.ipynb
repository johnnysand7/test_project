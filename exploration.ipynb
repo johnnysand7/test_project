{
 "cells": [
  {
   "cell_type": "markdown",
   "metadata": {},
   "source": [
    "### Looks like everything is in order!\n",
    "$${\\displaystyle\n",
    "f(t) = \\frac{4}{\\pi}\\sum_{i=1}^{\\infty}\\frac{\\mbox{sin}\\left(2i\\pi t\\right)}{2i - 1}\n",
    "}$$"
   ]
  },
  {
   "cell_type": "code",
   "execution_count": 1,
   "metadata": {
    "collapsed": true
   },
   "outputs": [],
   "source": [
    "import pandas as pd\n",
    "import numpy as np\n",
    "from sklearn.cross_validation import train_test_split"
   ]
  },
  {
   "cell_type": "code",
   "execution_count": 2,
   "metadata": {
    "collapsed": false
   },
   "outputs": [
    {
     "name": "stdout",
     "output_type": "stream",
     "text": [
      "Writing what_am_i_doing.py\n"
     ]
    }
   ],
   "source": [
    "%%writefile what_am_i_doing.py\n",
    "\n",
    "def whatever():\n",
    "    print \"This seems to be working!\"\n",
    "    \n",
    "if __name__ == \"__main__\":\n",
    "    whatever()"
   ]
  },
  {
   "cell_type": "code",
   "execution_count": 3,
   "metadata": {
    "collapsed": false
   },
   "outputs": [
    {
     "name": "stdout",
     "output_type": "stream",
     "text": [
      " Volume in drive C has no label.\n",
      " Volume Serial Number is 10E0-5D46\n",
      "\n",
      " Directory of C:\\Users\\Johnny\\Desktop\\test_project\n",
      "\n",
      "07/18/2016  04:32 PM    <DIR>          .\n",
      "07/18/2016  04:32 PM    <DIR>          ..\n",
      "07/18/2016  04:28 PM    <DIR>          .ipynb_checkpoints\n",
      "07/18/2016  04:30 PM               881 exploration.ipynb\n",
      "07/18/2016  03:12 AM    <DIR>          static\n",
      "07/18/2016  03:12 AM    <DIR>          templates\n",
      "07/18/2016  03:14 AM                91 test_file.py\n",
      "07/18/2016  04:32 PM               106 what_am_i_doing.py\n",
      "               3 File(s)          1,078 bytes\n",
      "               5 Dir(s)  44,964,741,120 bytes free\n"
     ]
    }
   ],
   "source": [
    "ls"
   ]
  },
  {
   "cell_type": "code",
   "execution_count": null,
   "metadata": {
    "collapsed": true
   },
   "outputs": [],
   "source": []
  }
 ],
 "metadata": {
  "anaconda-cloud": {},
  "kernelspec": {
   "display_name": "Python [Root]",
   "language": "python",
   "name": "Python [Root]"
  },
  "language_info": {
   "codemirror_mode": {
    "name": "ipython",
    "version": 2
   },
   "file_extension": ".py",
   "mimetype": "text/x-python",
   "name": "python",
   "nbconvert_exporter": "python",
   "pygments_lexer": "ipython2",
   "version": "2.7.12"
  }
 },
 "nbformat": 4,
 "nbformat_minor": 0
}
